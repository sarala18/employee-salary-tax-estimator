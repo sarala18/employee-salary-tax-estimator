{
  "nbformat": 4,
  "nbformat_minor": 0,
  "metadata": {
    "colab": {
      "provenance": []
    },
    "kernelspec": {
      "name": "python3",
      "display_name": "Python 3"
    },
    "language_info": {
      "name": "python"
    }
  },
  "cells": [
    {
      "cell_type": "markdown",
      "source": [
        "# Employee Salary Tax Estimator (with Visualization and CSV Export)\n",
        "\n",
        "This Python project calculates the annual tax and monthly take-home salary for an employee based on Indian income tax slabs. It includes:\n",
        "- Clean user input handling\n",
        "- Tax logic with senior citizen relief\n",
        "- Currency selection (INR, USD, EUR)\n",
        "- A pie chart showing tax vs. take-home income\n",
        "- CSV export of the results\n",
        "\n",
        "Author: Sarala Chandragiri  \n",
        "Role: Aspiring Data Analyst | Python Enthusiast | Open to Opportunities\n"
      ],
      "metadata": {
        "id": "L-iBnbBgvJGJ"
      }
    },
    {
      "cell_type": "code",
      "source": [
        "# 1: Install Libraries\n",
        "# Install required libraries if not already present\n",
        "!pip install matplotlib pandas\n"
      ],
      "metadata": {
        "id": "Gisq8I7PxSzI",
        "colab": {
          "base_uri": "https://localhost:8080/"
        },
        "outputId": "86df359e-9d05-45ca-d2a9-b27474b54090"
      },
      "execution_count": null,
      "outputs": [
        {
          "output_type": "stream",
          "name": "stdout",
          "text": [
            "Requirement already satisfied: matplotlib in /usr/local/lib/python3.11/dist-packages (3.10.0)\n",
            "Requirement already satisfied: pandas in /usr/local/lib/python3.11/dist-packages (2.2.2)\n",
            "Requirement already satisfied: contourpy>=1.0.1 in /usr/local/lib/python3.11/dist-packages (from matplotlib) (1.3.2)\n",
            "Requirement already satisfied: cycler>=0.10 in /usr/local/lib/python3.11/dist-packages (from matplotlib) (0.12.1)\n",
            "Requirement already satisfied: fonttools>=4.22.0 in /usr/local/lib/python3.11/dist-packages (from matplotlib) (4.58.4)\n",
            "Requirement already satisfied: kiwisolver>=1.3.1 in /usr/local/lib/python3.11/dist-packages (from matplotlib) (1.4.8)\n",
            "Requirement already satisfied: numpy>=1.23 in /usr/local/lib/python3.11/dist-packages (from matplotlib) (2.0.2)\n",
            "Requirement already satisfied: packaging>=20.0 in /usr/local/lib/python3.11/dist-packages (from matplotlib) (24.2)\n",
            "Requirement already satisfied: pillow>=8 in /usr/local/lib/python3.11/dist-packages (from matplotlib) (11.2.1)\n",
            "Requirement already satisfied: pyparsing>=2.3.1 in /usr/local/lib/python3.11/dist-packages (from matplotlib) (3.2.3)\n",
            "Requirement already satisfied: python-dateutil>=2.7 in /usr/local/lib/python3.11/dist-packages (from matplotlib) (2.9.0.post0)\n",
            "Requirement already satisfied: pytz>=2020.1 in /usr/local/lib/python3.11/dist-packages (from pandas) (2025.2)\n",
            "Requirement already satisfied: tzdata>=2022.7 in /usr/local/lib/python3.11/dist-packages (from pandas) (2025.2)\n",
            "Requirement already satisfied: six>=1.5 in /usr/local/lib/python3.11/dist-packages (from python-dateutil>=2.7->matplotlib) (1.17.0)\n"
          ]
        }
      ]
    },
    {
      "cell_type": "code",
      "source": [
        "\n",
        "#  Input & Tax Logic\n",
        "\n",
        "import matplotlib.pyplot as plt\n",
        "import pandas as pd\n",
        "\n",
        "# -------------------------------\n",
        "#    Input Section\n",
        "# -------------------------------\n",
        "\n",
        "# Step 1: Get employee name\n",
        "first_name = input(\"Enter your first name: \").strip().capitalize()\n",
        "last_name = input(\"Enter your last name: \").strip().capitalize()\n",
        "full_name = f\"{first_name} {last_name}\"\n",
        "\n",
        "# Step 2: Choose currency\n",
        "currency = input(\"Enter currency (INR, USD, EUR): \").strip().upper()\n",
        "symbols = {\"INR\": \"₹\", \"USD\": \"$\", \"EUR\": \"€\"}\n",
        "symbol = symbols.get(currency, \"\")\n",
        "\n",
        "# Step 3: Get age with validation\n",
        "while True:\n",
        "    try:\n",
        "        age = int(input(\"Enter your age: \"))\n",
        "        if age <= 0:\n",
        "            print(\"Please enter a valid age.\")\n",
        "            continue\n",
        "        break\n",
        "    except ValueError:\n",
        "        print(\"Invalid input. Enter age as a number.\")\n",
        "\n",
        "# Step 4: Get annual income with validation\n",
        "while True:\n",
        "    try:\n",
        "        income = float(input(f\"Enter your annual income in {currency}: \"))\n",
        "        if income < 0:\n",
        "            print(\"Income cannot be negative.\")\n",
        "            continue\n",
        "        break\n",
        "    except ValueError:\n",
        "        print(\"Invalid input. Enter salary as a number.\")\n",
        "\n",
        "# -------------------------------\n",
        "#    Tax Logic Section\n",
        "# -------------------------------\n",
        "\n",
        "if income < 250000:\n",
        "    tax_rate = 0\n",
        "elif income <= 500000:\n",
        "    tax_rate = 5\n",
        "elif income <= 1000000:\n",
        "    tax_rate = 10\n",
        "else:\n",
        "    tax_rate = 20\n",
        "\n",
        "tax_amount = (tax_rate / 100) * income\n",
        "\n",
        "# Senior citizen relief\n",
        "if age >= 60:\n",
        "\n",
        "    print(\"Applying 2% senior citizen tax relief.\")\n",
        "    tax_amount -= (0.02 * tax_amount)\n",
        "\n",
        "take_home = income - tax_amount\n",
        "monthly_income = take_home / 12"
      ],
      "metadata": {
        "id": "wQCiIYW9OgvM",
        "collapsed": true,
        "colab": {
          "base_uri": "https://localhost:8080/"
        },
        "outputId": "a66088ff-0258-4353-9c6c-73403cb009a3"
      },
      "execution_count": null,
      "outputs": [
        {
          "name": "stdout",
          "output_type": "stream",
          "text": [
            "Enter your first name: Sarala\n",
            "Enter your last name: Chandragiri\n",
            "Enter currency (INR, USD, EUR): INR\n",
            "Enter your age: 27\n",
            "Enter your annual income in INR: 900000\n"
          ]
        }
      ]
    },
    {
      "cell_type": "code",
      "source": [
        "# -------------------------------\n",
        "# Visualization (Matplotlib)\n",
        "# -------------------------------\n",
        "\n",
        "labels = ['Tax Paid', 'Take-home Salary']\n",
        "sizes = [tax_amount, take_home]\n",
        "colors = ['#ff9999', '#66b3ff']\n",
        "\n",
        "plt.figure(figsize=(6,6))\n",
        "plt.pie(sizes, labels=labels, colors=colors, autopct='%1.1f%%', startangle=140)\n",
        "plt.title(f'Income Split for {full_name}')\n",
        "plt.axis('equal')\n",
        "plt.show()\n",
        "\n",
        "# -------------------------------\n",
        "# CSV Export using Pandas\n",
        "# -------------------------------\n",
        "\n",
        "data = {\n",
        "    'Employee Name': [full_name],\n",
        "    'Age': [age],\n",
        "    'Currency': [currency],\n",
        "    'Annual Income': [income],\n",
        "    'Tax Rate (%)': [tax_rate],\n",
        "    'Tax Amount': [tax_amount],\n",
        "    'Take-home Salary': [take_home],\n",
        "    'Monthly Income': [monthly_income]\n",
        "}\n",
        "\n",
        "df = pd.DataFrame(data)\n",
        "df.to_csv('salary_summary.csv', index=False)\n",
        "\n",
        "print(\"\\nData exported to 'salary_summary.csv'\")"
      ],
      "metadata": {
        "id": "Uy2GSiv2_KM6",
        "colab": {
          "base_uri": "https://localhost:8080/",
          "height": 556
        },
        "outputId": "94e0406b-79ea-40ff-d8c8-f23ea0a06dab"
      },
      "execution_count": null,
      "outputs": [
        {
          "output_type": "display_data",
          "data": {
            "text/plain": [
              "<Figure size 600x600 with 1 Axes>"
            ],
            "image/png": "[encoded data removed]"
          },
          "metadata": {}
        },
        {
          "output_type": "stream",
          "name": "stdout",
          "text": [
            "\n",
            "Data exported to 'salary_summary.csv'\n"
          ]
        }
      ]
    },
    {
      "cell_type": "markdown",
      "source": [
        "## What I Learned\n",
        "\n",
        "- How to use Python for real-world salary/tax applications\n",
        "- How to apply tax rules with `if-else` and arithmetic\n",
        "- How to use `try-except` for input validation\n",
        "- How to create pie charts using Matplotlib\n",
        "- How to export data using Pandas\n",
        "\n",
        "## Connect with Me\n",
        "\n",
        "**Sarala Chandragiri**  \n",
        "Aspiring Data Analyst | Python Learner | Open to Opportunities\n",
        "\n",
        "🔗 Connect with me on LinkedIn:  \n",
        " https: https://www.linkedin.com/in/sarala-chandragiri-256470230/"
      ],
      "metadata": {
        "id": "7-eCEBrQzlsl"
      }
    }
  ]
}